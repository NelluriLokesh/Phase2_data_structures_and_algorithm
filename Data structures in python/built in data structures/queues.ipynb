{
 "cells": [
  {
   "cell_type": "markdown",
   "metadata": {},
   "source": [
    "# queues usnig list...."
   ]
  },
  {
   "cell_type": "markdown",
   "metadata": {},
   "source": [
    "## Firt in last out....\n",
    "way 1\n"
   ]
  },
  {
   "cell_type": "code",
   "execution_count": 1,
   "metadata": {},
   "outputs": [
    {
     "name": "stdout",
     "output_type": "stream",
     "text": [
      "[1]\n",
      "[1, 2]\n",
      "[1, 2, 3]\n",
      "[1, 2, 3, 4]\n",
      "[1, 2, 3, 4, 5]\n",
      "[1, 2, 3, 4]\n",
      "[1, 2, 3]\n",
      "[1, 2]\n",
      "[1]\n",
      "[]\n",
      "queues is empty\n",
      "queues is empty\n",
      "[]\n"
     ]
    }
   ],
   "source": [
    "def enqueue():\n",
    "  num = int(input(\"enter the value to enqueue into queue : \"))\n",
    "  queues.append(num)\n",
    "  print(queues)\n",
    "\n",
    "def dequeue():  \n",
    "  if not queues:\n",
    "    print(\"queues is empty\")\n",
    "  else:\n",
    "    queues.pop()\n",
    "    print(queues)\n",
    "\n",
    "\n",
    "\n",
    "\n",
    "queues = []\n",
    "while True:\n",
    "  cho = int(input(\"select an \\n 1.enqueue \\n 2.dequeue \\n 3.show the queue \\n 4.exit\"))\n",
    "  \n",
    "  if cho == 1:\n",
    "    enqueue()\n",
    "  \n",
    "  elif cho == 2:\n",
    "    dequeue()\n",
    "  elif cho == 3:\n",
    "    print(queues)\n",
    "  elif cho == 4:\n",
    "    break"
   ]
  },
  {
   "cell_type": "code",
   "execution_count": 17,
   "metadata": {},
   "outputs": [],
   "source": [
    "queues = []\n"
   ]
  },
  {
   "cell_type": "code",
   "execution_count": 18,
   "metadata": {},
   "outputs": [],
   "source": [
    "for i in range(10):\n",
    "  queues.append(i)"
   ]
  },
  {
   "cell_type": "code",
   "execution_count": 19,
   "metadata": {},
   "outputs": [
    {
     "name": "stdout",
     "output_type": "stream",
     "text": [
      "[1, 2, 3, 4, 5, 6, 7, 8, 9]\n",
      "[2, 3, 4, 5, 6, 7, 8, 9]\n",
      "[3, 4, 5, 6, 7, 8, 9]\n",
      "[4, 5, 6, 7, 8, 9]\n",
      "[5, 6, 7, 8, 9]\n",
      "[6, 7, 8, 9]\n",
      "[7, 8, 9]\n",
      "[8, 9]\n",
      "[9]\n"
     ]
    }
   ],
   "source": [
    "for i in range(len(queues)-1):\n",
    "  queues.pop(0)\n",
    "  print(queues)"
   ]
  },
  {
   "cell_type": "markdown",
   "metadata": {},
   "source": [
    "way 2"
   ]
  },
  {
   "cell_type": "code",
   "execution_count": 33,
   "metadata": {},
   "outputs": [],
   "source": [
    "queues = []"
   ]
  },
  {
   "cell_type": "code",
   "execution_count": 40,
   "metadata": {},
   "outputs": [],
   "source": [
    "for i in range(10):\n",
    "    queues.insert(0,i)"
   ]
  },
  {
   "cell_type": "code",
   "execution_count": 38,
   "metadata": {},
   "outputs": [
    {
     "data": {
      "text/plain": [
       "[9, 8, 7, 6, 5, 4, 3, 2, 1, 0]"
      ]
     },
     "execution_count": 38,
     "metadata": {},
     "output_type": "execute_result"
    }
   ],
   "source": [
    "queues"
   ]
  },
  {
   "cell_type": "code",
   "execution_count": 41,
   "metadata": {},
   "outputs": [
    {
     "data": {
      "text/plain": [
       "False"
      ]
     },
     "execution_count": 41,
     "metadata": {},
     "output_type": "execute_result"
    }
   ],
   "source": [
    "not queues"
   ]
  },
  {
   "cell_type": "code",
   "execution_count": 39,
   "metadata": {},
   "outputs": [
    {
     "name": "stdout",
     "output_type": "stream",
     "text": [
      "[9, 8, 7, 6, 5, 4, 3, 2, 1]\n",
      "[9, 8, 7, 6, 5, 4, 3, 2]\n",
      "[9, 8, 7, 6, 5, 4, 3]\n",
      "[9, 8, 7, 6, 5, 4]\n",
      "[9, 8, 7, 6, 5]\n",
      "[9, 8, 7, 6]\n",
      "[9, 8, 7]\n",
      "[9, 8]\n",
      "[9]\n",
      "[]\n"
     ]
    }
   ],
   "source": [
    "for i in range(len(queues)):\n",
    "\n",
    "  queues.pop()\n",
    "  print(queues)"
   ]
  },
  {
   "cell_type": "markdown",
   "metadata": {},
   "source": [
    "# using appendleft() and pop()"
   ]
  },
  {
   "cell_type": "code",
   "execution_count": 1,
   "metadata": {},
   "outputs": [],
   "source": [
    "import collections\n",
    "q = collections.deque()"
   ]
  },
  {
   "cell_type": "code",
   "execution_count": 2,
   "metadata": {},
   "outputs": [
    {
     "name": "stdout",
     "output_type": "stream",
     "text": [
      "deque([0])\n",
      "deque([1, 0])\n",
      "deque([2, 1, 0])\n",
      "deque([3, 2, 1, 0])\n",
      "deque([4, 3, 2, 1, 0])\n",
      "deque([5, 4, 3, 2, 1, 0])\n",
      "deque([6, 5, 4, 3, 2, 1, 0])\n",
      "deque([7, 6, 5, 4, 3, 2, 1, 0])\n",
      "deque([8, 7, 6, 5, 4, 3, 2, 1, 0])\n",
      "deque([9, 8, 7, 6, 5, 4, 3, 2, 1, 0])\n"
     ]
    }
   ],
   "source": [
    "for i in range(10):\n",
    "  q.appendleft(i)\n",
    "  print(q)"
   ]
  },
  {
   "cell_type": "code",
   "execution_count": 3,
   "metadata": {},
   "outputs": [
    {
     "name": "stdout",
     "output_type": "stream",
     "text": [
      "deque([9, 8, 7, 6, 5, 4, 3, 2, 1])\n",
      "deque([9, 8, 7, 6, 5, 4, 3, 2])\n",
      "deque([9, 8, 7, 6, 5, 4, 3])\n",
      "deque([9, 8, 7, 6, 5, 4])\n",
      "deque([9, 8, 7, 6, 5])\n",
      "deque([9, 8, 7, 6])\n",
      "deque([9, 8, 7])\n",
      "deque([9, 8])\n",
      "deque([9])\n",
      "deque([])\n"
     ]
    }
   ],
   "source": [
    "for i in range(len(q)):\n",
    "  q.pop()\n",
    "  print(q)"
   ]
  },
  {
   "cell_type": "markdown",
   "metadata": {},
   "source": [
    "# using append() and popleft()"
   ]
  },
  {
   "cell_type": "code",
   "execution_count": 4,
   "metadata": {},
   "outputs": [],
   "source": [
    "import collections\n",
    "\n",
    "q = collections.deque()"
   ]
  },
  {
   "cell_type": "code",
   "execution_count": 5,
   "metadata": {},
   "outputs": [
    {
     "name": "stdout",
     "output_type": "stream",
     "text": [
      "deque([0])\n",
      "deque([0, 1])\n",
      "deque([0, 1, 2])\n",
      "deque([0, 1, 2, 3])\n",
      "deque([0, 1, 2, 3, 4])\n",
      "deque([0, 1, 2, 3, 4, 5])\n",
      "deque([0, 1, 2, 3, 4, 5, 6])\n",
      "deque([0, 1, 2, 3, 4, 5, 6, 7])\n",
      "deque([0, 1, 2, 3, 4, 5, 6, 7, 8])\n",
      "deque([0, 1, 2, 3, 4, 5, 6, 7, 8, 9])\n"
     ]
    }
   ],
   "source": [
    "for i in range(10):\n",
    "  q.append(i)\n",
    "  print(q)"
   ]
  },
  {
   "cell_type": "code",
   "execution_count": 6,
   "metadata": {},
   "outputs": [
    {
     "name": "stdout",
     "output_type": "stream",
     "text": [
      "deque([1, 2, 3, 4, 5, 6, 7, 8, 9])\n",
      "deque([2, 3, 4, 5, 6, 7, 8, 9])\n",
      "deque([3, 4, 5, 6, 7, 8, 9])\n",
      "deque([4, 5, 6, 7, 8, 9])\n",
      "deque([5, 6, 7, 8, 9])\n",
      "deque([6, 7, 8, 9])\n",
      "deque([7, 8, 9])\n",
      "deque([8, 9])\n",
      "deque([9])\n",
      "deque([])\n"
     ]
    }
   ],
   "source": [
    "for i in range(len(q)):\n",
    "  q.popleft()\n",
    "  print(q)"
   ]
  },
  {
   "cell_type": "code",
   "execution_count": 7,
   "metadata": {},
   "outputs": [
    {
     "data": {
      "text/plain": [
       "True"
      ]
     },
     "execution_count": 7,
     "metadata": {},
     "output_type": "execute_result"
    }
   ],
   "source": [
    "len(q) == 0\n"
   ]
  },
  {
   "cell_type": "markdown",
   "metadata": {},
   "source": [
    "# queue.Queue"
   ]
  },
  {
   "cell_type": "code",
   "execution_count": 13,
   "metadata": {},
   "outputs": [],
   "source": [
    "import queue\n",
    "\n",
    "q = queue.Queue()\n"
   ]
  },
  {
   "cell_type": "code",
   "execution_count": 14,
   "metadata": {},
   "outputs": [
    {
     "name": "stdout",
     "output_type": "stream",
     "text": [
      "<queue.Queue object at 0x0000021360F43470>\n",
      "<queue.Queue object at 0x0000021360F43470>\n",
      "<queue.Queue object at 0x0000021360F43470>\n",
      "<queue.Queue object at 0x0000021360F43470>\n",
      "<queue.Queue object at 0x0000021360F43470>\n",
      "<queue.Queue object at 0x0000021360F43470>\n",
      "<queue.Queue object at 0x0000021360F43470>\n",
      "<queue.Queue object at 0x0000021360F43470>\n",
      "<queue.Queue object at 0x0000021360F43470>\n",
      "<queue.Queue object at 0x0000021360F43470>\n"
     ]
    }
   ],
   "source": [
    "for i in range(10):\n",
    "  q.put(i,block=True)\n",
    "  print(q)"
   ]
  },
  {
   "cell_type": "code",
   "execution_count": 16,
   "metadata": {},
   "outputs": [
    {
     "data": {
      "text/plain": [
       "False"
      ]
     },
     "execution_count": 16,
     "metadata": {},
     "output_type": "execute_result"
    }
   ],
   "source": [
    "not q"
   ]
  }
 ],
 "metadata": {
  "kernelspec": {
   "display_name": "Python 3",
   "language": "python",
   "name": "python3"
  },
  "language_info": {
   "codemirror_mode": {
    "name": "ipython",
    "version": 3
   },
   "file_extension": ".py",
   "mimetype": "text/x-python",
   "name": "python",
   "nbconvert_exporter": "python",
   "pygments_lexer": "ipython3",
   "version": "3.12.2"
  }
 },
 "nbformat": 4,
 "nbformat_minor": 2
}
